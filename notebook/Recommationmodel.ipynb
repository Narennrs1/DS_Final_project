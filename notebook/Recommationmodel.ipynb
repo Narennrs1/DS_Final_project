{
 "cells": [
  {
   "cell_type": "code",
   "execution_count": 1,
   "metadata": {},
   "outputs": [],
   "source": [
    "#importing the important package for the model\n",
    "\n",
    "import pandas as pd\n",
    "import numpy as np\n",
    "import matplotlib.pyplot as plt\n",
    "from nltk import WordNetLemmatizer,word_tokenize,PorterStemmer\n",
    "from nltk.corpus import stopwords\n",
    "import sklearn \n",
    "from sklearn.feature_extraction.text import TfidfVectorizer\n",
    "from sklearn.metrics.pairwise import cosine_similarity\n",
    "import pickle"
   ]
  },
  {
   "cell_type": "code",
   "execution_count": 2,
   "metadata": {},
   "outputs": [],
   "source": [
    "#Reading the Raw data from spotify datset \n",
    "rwdata=pd.read_csv(\"spotify_millsongdata.csv\")"
   ]
  },
  {
   "cell_type": "markdown",
   "metadata": {},
   "source": [
    "Understanding the values in  dataset\n",
    "like - Null values,Duplicate values,unique value and shape"
   ]
  },
  {
   "cell_type": "code",
   "execution_count": 3,
   "metadata": {},
   "outputs": [
    {
     "name": "stdout",
     "output_type": "stream",
     "text": [
      "<class 'pandas.core.frame.DataFrame'>\n",
      "RangeIndex: 57650 entries, 0 to 57649\n",
      "Data columns (total 4 columns):\n",
      " #   Column  Non-Null Count  Dtype \n",
      "---  ------  --------------  ----- \n",
      " 0   artist  57650 non-null  object\n",
      " 1   song    57650 non-null  object\n",
      " 2   link    57650 non-null  object\n",
      " 3   text    57650 non-null  object\n",
      "dtypes: object(4)\n",
      "memory usage: 1.8+ MB\n"
     ]
    }
   ],
   "source": [
    "#Info dataset \n",
    "rwdata.info()\n",
    "\n",
    "\n",
    "#There is 4 columns and all are in string type"
   ]
  },
  {
   "cell_type": "code",
   "execution_count": 4,
   "metadata": {},
   "outputs": [
    {
     "name": "stdout",
     "output_type": "stream",
     "text": [
      "Row : 57650\n",
      "Columns : 4\n"
     ]
    }
   ],
   "source": [
    "#Find the shape of the dataset\n",
    "print(f'Row :',rwdata.shape[0])\n",
    "print(f'Columns :',rwdata.shape[1])"
   ]
  },
  {
   "cell_type": "code",
   "execution_count": 5,
   "metadata": {},
   "outputs": [
    {
     "data": {
      "text/plain": [
       "artist    0\n",
       "song      0\n",
       "link      0\n",
       "text      0\n",
       "dtype: int64"
      ]
     },
     "execution_count": 5,
     "metadata": {},
     "output_type": "execute_result"
    }
   ],
   "source": [
    "#Finding the null values\n",
    "rwdata.isnull().sum().sort_values(ascending=False)"
   ]
  },
  {
   "cell_type": "code",
   "execution_count": 6,
   "metadata": {},
   "outputs": [
    {
     "data": {
      "text/plain": [
       "link      57650\n",
       "text      57494\n",
       "song      44824\n",
       "artist      643\n",
       "dtype: int64"
      ]
     },
     "execution_count": 6,
     "metadata": {},
     "output_type": "execute_result"
    }
   ],
   "source": [
    "#Finding the Unique values\n",
    "rwdata.nunique().sort_values(ascending=False)"
   ]
  },
  {
   "cell_type": "code",
   "execution_count": 7,
   "metadata": {},
   "outputs": [
    {
     "data": {
      "text/plain": [
       "0"
      ]
     },
     "execution_count": 7,
     "metadata": {},
     "output_type": "execute_result"
    }
   ],
   "source": [
    "#Finding the duplicate values \n",
    "rwdata.duplicated().sum()"
   ]
  },
  {
   "cell_type": "code",
   "execution_count": 8,
   "metadata": {},
   "outputs": [],
   "source": [
    "#droping the unwanted columns\n",
    "rwdata=rwdata.drop(columns=['link'],axis=1).reset_index(drop=True)"
   ]
  },
  {
   "cell_type": "code",
   "execution_count": 9,
   "metadata": {},
   "outputs": [
    {
     "data": {
      "text/plain": [
       "0                ABBA\n",
       "1                ABBA\n",
       "2                ABBA\n",
       "3                ABBA\n",
       "4                ABBA\n",
       "             ...     \n",
       "57645    Ziggy Marley\n",
       "57646    Ziggy Marley\n",
       "57647            Zwan\n",
       "57648            Zwan\n",
       "57649            Zwan\n",
       "Name: artist, Length: 57650, dtype: object"
      ]
     },
     "execution_count": 9,
     "metadata": {},
     "output_type": "execute_result"
    }
   ],
   "source": [
    "rwdata['artist']"
   ]
  },
  {
   "cell_type": "code",
   "execution_count": 10,
   "metadata": {},
   "outputs": [],
   "source": [
    "#As dataset has 57650 data. Let make it to smaller to get faster output\n",
    "spotiy=rwdata.sample(3892)"
   ]
  },
  {
   "cell_type": "markdown",
   "metadata": {},
   "source": [
    "#I have write th dataset to my local dise\n",
    "#spotiy.to_csv(\"spotiy.csv\",index=0)"
   ]
  },
  {
   "cell_type": "code",
   "execution_count": 11,
   "metadata": {},
   "outputs": [],
   "source": [
    "# import the csv file # It also change the index to 0-9\n",
    "spotiy=pd.read_csv('spotiy.csv')"
   ]
  },
  {
   "cell_type": "code",
   "execution_count": 12,
   "metadata": {},
   "outputs": [
    {
     "data": {
      "text/html": [
       "<div>\n",
       "<style scoped>\n",
       "    .dataframe tbody tr th:only-of-type {\n",
       "        vertical-align: middle;\n",
       "    }\n",
       "\n",
       "    .dataframe tbody tr th {\n",
       "        vertical-align: top;\n",
       "    }\n",
       "\n",
       "    .dataframe thead th {\n",
       "        text-align: right;\n",
       "    }\n",
       "</style>\n",
       "<table border=\"1\" class=\"dataframe\">\n",
       "  <thead>\n",
       "    <tr style=\"text-align: right;\">\n",
       "      <th></th>\n",
       "      <th>artist</th>\n",
       "      <th>song</th>\n",
       "      <th>text</th>\n",
       "    </tr>\n",
       "  </thead>\n",
       "  <tbody>\n",
       "    <tr>\n",
       "      <th>0</th>\n",
       "      <td>Ne-Yo</td>\n",
       "      <td>Tell Me A Secret</td>\n",
       "      <td>I got 5 kisses, where you want 'em at?  \\r\\nEi...</td>\n",
       "    </tr>\n",
       "    <tr>\n",
       "      <th>1</th>\n",
       "      <td>Bread</td>\n",
       "      <td>The Last Time</td>\n",
       "      <td>Hey, didn't you believe me when I told you I w...</td>\n",
       "    </tr>\n",
       "    <tr>\n",
       "      <th>2</th>\n",
       "      <td>Gino Vannelli</td>\n",
       "      <td>Words Can Kill</td>\n",
       "      <td>Why must we fight  \\r\\nMust we shatter sweet d...</td>\n",
       "    </tr>\n",
       "    <tr>\n",
       "      <th>3</th>\n",
       "      <td>Ufo</td>\n",
       "      <td>Hot 'n' Ready</td>\n",
       "      <td>You knock me out you're like a well oiled Smit...</td>\n",
       "    </tr>\n",
       "    <tr>\n",
       "      <th>4</th>\n",
       "      <td>Eric Clapton</td>\n",
       "      <td>Have You Ever Loved A Woman</td>\n",
       "      <td>Have you ever loved a woman  \\r\\nSo much you t...</td>\n",
       "    </tr>\n",
       "    <tr>\n",
       "      <th>...</th>\n",
       "      <td>...</td>\n",
       "      <td>...</td>\n",
       "      <td>...</td>\n",
       "    </tr>\n",
       "    <tr>\n",
       "      <th>3887</th>\n",
       "      <td>Hank Snow</td>\n",
       "      <td>Broken Hearted</td>\n",
       "      <td>You ask me why I'm broken hearted  \\r\\nWhy, I'...</td>\n",
       "    </tr>\n",
       "    <tr>\n",
       "      <th>3888</th>\n",
       "      <td>Alice Cooper</td>\n",
       "      <td>Dragontown</td>\n",
       "      <td>Well, here you are lying bleeding on a grimy s...</td>\n",
       "    </tr>\n",
       "    <tr>\n",
       "      <th>3889</th>\n",
       "      <td>Michael Bolton</td>\n",
       "      <td>At Last</td>\n",
       "      <td>At last  \\r\\nMy love has come along  \\r\\nMy lo...</td>\n",
       "    </tr>\n",
       "    <tr>\n",
       "      <th>3890</th>\n",
       "      <td>Ozzy Osbourne</td>\n",
       "      <td>Changes</td>\n",
       "      <td>I feel unhappyi am so sadi'v lost the best fri...</td>\n",
       "    </tr>\n",
       "    <tr>\n",
       "      <th>3891</th>\n",
       "      <td>Pat Benatar</td>\n",
       "      <td>Takin' It Back</td>\n",
       "      <td>When they found you, you were driven and hungr...</td>\n",
       "    </tr>\n",
       "  </tbody>\n",
       "</table>\n",
       "<p>3892 rows × 3 columns</p>\n",
       "</div>"
      ],
      "text/plain": [
       "              artist                         song  \\\n",
       "0              Ne-Yo             Tell Me A Secret   \n",
       "1              Bread                The Last Time   \n",
       "2      Gino Vannelli               Words Can Kill   \n",
       "3                Ufo                Hot 'n' Ready   \n",
       "4       Eric Clapton  Have You Ever Loved A Woman   \n",
       "...              ...                          ...   \n",
       "3887       Hank Snow               Broken Hearted   \n",
       "3888    Alice Cooper                   Dragontown   \n",
       "3889  Michael Bolton                      At Last   \n",
       "3890   Ozzy Osbourne                      Changes   \n",
       "3891     Pat Benatar               Takin' It Back   \n",
       "\n",
       "                                                   text  \n",
       "0     I got 5 kisses, where you want 'em at?  \\r\\nEi...  \n",
       "1     Hey, didn't you believe me when I told you I w...  \n",
       "2     Why must we fight  \\r\\nMust we shatter sweet d...  \n",
       "3     You knock me out you're like a well oiled Smit...  \n",
       "4     Have you ever loved a woman  \\r\\nSo much you t...  \n",
       "...                                                 ...  \n",
       "3887  You ask me why I'm broken hearted  \\r\\nWhy, I'...  \n",
       "3888  Well, here you are lying bleeding on a grimy s...  \n",
       "3889  At last  \\r\\nMy love has come along  \\r\\nMy lo...  \n",
       "3890  I feel unhappyi am so sadi'v lost the best fri...  \n",
       "3891  When they found you, you were driven and hungr...  \n",
       "\n",
       "[3892 rows x 3 columns]"
      ]
     },
     "execution_count": 12,
     "metadata": {},
     "output_type": "execute_result"
    }
   ],
   "source": [
    "spotiy"
   ]
  },
  {
   "cell_type": "code",
   "execution_count": 13,
   "metadata": {},
   "outputs": [
    {
     "data": {
      "text/plain": [
       "0       I got 5 kisses, where you want 'em at?  \\r\\nEi...\n",
       "1       Hey, didn't you believe me when I told you I w...\n",
       "2       Why must we fight  \\r\\nMust we shatter sweet d...\n",
       "3       You knock me out you're like a well oiled Smit...\n",
       "4       Have you ever loved a woman  \\r\\nSo much you t...\n",
       "                              ...                        \n",
       "3887    You ask me why I'm broken hearted  \\r\\nWhy, I'...\n",
       "3888    Well, here you are lying bleeding on a grimy s...\n",
       "3889    At last  \\r\\nMy love has come along  \\r\\nMy lo...\n",
       "3890    I feel unhappyi am so sadi'v lost the best fri...\n",
       "3891    When they found you, you were driven and hungr...\n",
       "Name: text, Length: 3892, dtype: object"
      ]
     },
     "execution_count": 13,
     "metadata": {},
     "output_type": "execute_result"
    }
   ],
   "source": [
    "spotiy.text"
   ]
  },
  {
   "cell_type": "markdown",
   "metadata": {},
   "source": [
    "Text Pre-processing for the dataset"
   ]
  },
  {
   "cell_type": "code",
   "execution_count": 14,
   "metadata": {},
   "outputs": [],
   "source": [
    "spotiy['text']=spotiy['text'].str.lower().replace(r'^\\w\\s',' ').replace(r'\\n',' ',regex=True)"
   ]
  },
  {
   "cell_type": "markdown",
   "metadata": {},
   "source": [
    "Stemming for text - which is used to normalize the word in the text"
   ]
  },
  {
   "cell_type": "code",
   "execution_count": 15,
   "metadata": {},
   "outputs": [],
   "source": [
    "stem=PorterStemmer()\n",
    "\n",
    "def token(text):\n",
    "    token=word_tokenize(text)\n",
    "    stemword=[stem.stem(i) for i in token]\n",
    "    return \" \".join(stemword)    "
   ]
  },
  {
   "cell_type": "code",
   "execution_count": 16,
   "metadata": {},
   "outputs": [],
   "source": [
    "# use lambda funcation to apply this funcation in all the text dataset\n",
    "spotiy['text']=spotiy['text'].apply(lambda x: token(x))"
   ]
  },
  {
   "cell_type": "markdown",
   "metadata": {},
   "source": [
    "##### Now we are going to convert the word into numbers. Word to vectorizer \n",
    "##### myself i use TF-IDF.\n",
    "###### We also has Keras one-hot encoding,BoW,Word2vec "
   ]
  },
  {
   "cell_type": "code",
   "execution_count": 17,
   "metadata": {},
   "outputs": [],
   "source": [
    "# Fitting the text into vectorizer \n",
    "vector=TfidfVectorizer(analyzer=\"word\",stop_words=\"english\")\n",
    "t2n=vector.fit_transform(spotiy['text'])\n"
   ]
  },
  {
   "cell_type": "code",
   "execution_count": 18,
   "metadata": {},
   "outputs": [
    {
     "data": {
      "text/plain": [
       "\"( choru ) pay no attent to alic , she 's drunk all the time , hook on that wine , bunch of it , and it ruin her mind . pay no attent to alic , they say she 's a sot , sane she is not , but she love it , and it 's all she 's got . she made that appl pie from a memori , made them biscuit from a recollect that she had . she cook that chicken too long but she do n't know that , oh what the hell , it ai n't too bad . ( choru ) do n't talk about the war , i wa a coward , talk about fish and all the good time raisin ' hell . empti that one down , we 'll get anoth one , it 's get late , you might as well . though we ram your car into a ditch , man do n't sweat it , i know ben down at the shell station and he 'll get it out . alic , put your ash in that ashtray , i swear woman , you 're gon na burn down the hous . pay no attent to alic , she 's drunk all the time ...\""
      ]
     },
     "execution_count": 18,
     "metadata": {},
     "output_type": "execute_result"
    }
   ],
   "source": [
    "spotiy['text'][300]"
   ]
  },
  {
   "cell_type": "markdown",
   "metadata": {},
   "source": [
    "Cosine similarity is use to find the similary between 2 varible "
   ]
  },
  {
   "cell_type": "code",
   "execution_count": 19,
   "metadata": {},
   "outputs": [
    {
     "data": {
      "text/plain": [
       "array([1.        , 0.18604004, 0.03459491, ..., 0.01582367, 0.01732394,\n",
       "       0.14655253])"
      ]
     },
     "execution_count": 19,
     "metadata": {},
     "output_type": "execute_result"
    }
   ],
   "source": [
    "# Fit in to cosine which is used to find the similarity between 2 variable \n",
    "songsim=cosine_similarity(t2n)\n",
    "songsim[0]"
   ]
  },
  {
   "cell_type": "code",
   "execution_count": 20,
   "metadata": {},
   "outputs": [
    {
     "data": {
      "text/plain": [
       "0                  Tell Me A Secret\n",
       "1                     The Last Time\n",
       "2                    Words Can Kill\n",
       "3                     Hot 'n' Ready\n",
       "4       Have You Ever Loved A Woman\n",
       "                   ...             \n",
       "3887                 Broken Hearted\n",
       "3888                     Dragontown\n",
       "3889                        At Last\n",
       "3890                        Changes\n",
       "3891                 Takin' It Back\n",
       "Name: song, Length: 3892, dtype: object"
      ]
     },
     "execution_count": 20,
     "metadata": {},
     "output_type": "execute_result"
    }
   ],
   "source": [
    "spotiy['song']"
   ]
  },
  {
   "cell_type": "markdown",
   "metadata": {},
   "source": [
    "Recommandendation funcation for music"
   ]
  },
  {
   "cell_type": "code",
   "execution_count": 21,
   "metadata": {},
   "outputs": [
    {
     "data": {
      "text/plain": [
       "['Dragontown', 'Come Let Go', 'Chi', 'Come Back Baby', 'I Like It Like That']"
      ]
     },
     "execution_count": 21,
     "metadata": {},
     "output_type": "execute_result"
    }
   ],
   "source": [
    "from sympy import re\n",
    "\n",
    "\n",
    "d=sorted(list(enumerate(songsim[3888])),reverse=True,key=lambda x:x[1])\n",
    "d[0:5]\n",
    "song=[]\n",
    "for i in d[0:5]:\n",
    "    song.append(spotiy.iloc[i[0]].song)\n",
    "\n",
    "song"
   ]
  },
  {
   "cell_type": "code",
   "execution_count": 22,
   "metadata": {},
   "outputs": [],
   "source": [
    "#Example #spotiy[spotiy['song']=='Tell Me A Secret']\n",
    "#spotiy[spotiy['song']=='Dragontown'].index[0]\n",
    "def recommander(song_name):\n",
    "    ids=spotiy[spotiy['song']==song_name].index[0]\n",
    "    dis=sorted(list(enumerate(songsim[ids])),reverse=True,key=lambda x:x[1])  \n",
    "    song=[]\n",
    "    art=[]\n",
    "    for i in dis[1:6]:\n",
    "        s=spotiy.iloc[i[0]].song\n",
    "        a=spotiy.iloc[i[0]].artist\n",
    "        song.append(s)\n",
    "        art.append(spotiy.iloc[i[0]].artist)\n",
    "    return song,art"
   ]
  },
  {
   "cell_type": "code",
   "execution_count": 23,
   "metadata": {},
   "outputs": [
    {
     "data": {
      "text/plain": [
       "(['Come Let Go',\n",
       "  'Chi',\n",
       "  'Come Back Baby',\n",
       "  'I Like It Like That',\n",
       "  'It Comes Back To You'],\n",
       " ['Xavier Rudd', 'Korn', 'Elton John', 'Kenny Loggins', 'Imagine Dragons'])"
      ]
     },
     "execution_count": 23,
     "metadata": {},
     "output_type": "execute_result"
    }
   ],
   "source": [
    "recommander(\"Dragontown\")"
   ]
  },
  {
   "cell_type": "markdown",
   "metadata": {},
   "source": [
    "save the file as pickle to run in streamlit "
   ]
  },
  {
   "cell_type": "code",
   "execution_count": 24,
   "metadata": {},
   "outputs": [],
   "source": [
    "pickle.dump(songsim,open(\"music_recommendation.pkl\",\"wb\"))\n",
    "pickle.dump(spotiy,open(\"df_music.pkl\",\"wb\"))"
   ]
  },
  {
   "cell_type": "code",
   "execution_count": null,
   "metadata": {},
   "outputs": [],
   "source": []
  }
 ],
 "metadata": {
  "kernelspec": {
   "display_name": "Python 3",
   "language": "python",
   "name": "python3"
  },
  "language_info": {
   "codemirror_mode": {
    "name": "ipython",
    "version": 3
   },
   "file_extension": ".py",
   "mimetype": "text/x-python",
   "name": "python",
   "nbconvert_exporter": "python",
   "pygments_lexer": "ipython3",
   "version": "3.11.5"
  }
 },
 "nbformat": 4,
 "nbformat_minor": 2
}
